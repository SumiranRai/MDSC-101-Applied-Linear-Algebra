{
  "nbformat": 4,
  "nbformat_minor": 0,
  "metadata": {
    "colab": {
      "provenance": [],
      "authorship_tag": "ABX9TyP9cYoVWF/fPNJ+tgfyVFWG",
      "include_colab_link": true
    },
    "kernelspec": {
      "name": "python3",
      "display_name": "Python 3"
    },
    "language_info": {
      "name": "python"
    }
  },
  "cells": [
    {
      "cell_type": "markdown",
      "metadata": {
        "id": "view-in-github",
        "colab_type": "text"
      },
      "source": [
        "<a href=\"https://colab.research.google.com/github/SumiranRai/MDSC-101-Applied-Linear-Algebra/blob/main/Inner_Product_%26_Matrix_Multiplication.ipynb\" target=\"_parent\"><img src=\"https://colab.research.google.com/assets/colab-badge.svg\" alt=\"Open In Colab\"/></a>"
      ]
    },
    {
      "cell_type": "markdown",
      "source": [
        "Inner Product\n",
        "\n",
        "Reads two vectors of user-defined dimension and performs their inner product.\n",
        "\n",
        "<a|b> = a transpose * b"
      ],
      "metadata": {
        "id": "Oc2OuQricFzd"
      }
    },
    {
      "cell_type": "code",
      "source": [
        "def inner_product(A, B):\n",
        "    # Perform multiplication\n",
        "    result = 0\n",
        "    for i in range(len(A)):\n",
        "        result += A[i] * B[i]\n",
        "    return result\n",
        "\n",
        "# Function to input a vector of given dimension from the user\n",
        "def input_vector(dim):\n",
        "    vector = []\n",
        "    print(\"Enter the values for the vector (one value at a time):\")\n",
        "    for i in range(dim):\n",
        "        value = int(input(f\"Value {i+1}: \"))\n",
        "        vector.append(value)\n",
        "    return vector\n",
        "\n",
        "# Input dimension for the vectors from the user\n",
        "dim = int(input(\"\\nEnter the dimension for the vectors: \"))\n",
        "\n",
        "# Input vectors A and B from the user\n",
        "print(\"\\nEnter vector A:\")\n",
        "A = input_vector(dim)\n",
        "\n",
        "print(\"Enter vector B:\")\n",
        "B = input_vector(dim)\n",
        "\n",
        "# Calculate the inner product of A and B\n",
        "result = inner_product(A, B)\n",
        "print(f\"The inner product of A and B is: {result}\")"
      ],
      "metadata": {
        "colab": {
          "base_uri": "https://localhost:8080/"
        },
        "id": "HaqPfcfXcv6b",
        "outputId": "d1eb3d10-5901-43cc-f2a6-f007ac3cbe3e"
      },
      "execution_count": 7,
      "outputs": [
        {
          "output_type": "stream",
          "name": "stdout",
          "text": [
            "\n",
            "Enter the dimension for the vectors: 2\n",
            "\n",
            "Enter vector A:\n",
            "Enter the values for the vector (one value at a time):\n",
            "Value 1: 4\n",
            "Value 2: 7\n",
            "Enter vector B:\n",
            "Enter the values for the vector (one value at a time):\n",
            "Value 1: 5\n",
            "Value 2: 7\n",
            "The inner product of A and B is: 69\n"
          ]
        }
      ]
    },
    {
      "cell_type": "markdown",
      "source": [
        "Matrix Multiplication\n",
        "\n",
        "Reads two matrices of user defined order.\n",
        "Check for their compatibility and performs matrix multiplication.\n",
        "\n",
        "The no. of columns of the first matrix (say A) should be equal to the no. of rows of the second matrix (say B) for the matrix multiplication to be possible.\n",
        "\n",
        "No. of cols in A = No. of rows in B.\n"
      ],
      "metadata": {
        "id": "WcZEomrXh-Af"
      }
    },
    {
      "cell_type": "code",
      "execution_count": null,
      "metadata": {
        "id": "KRRO33flb8FP"
      },
      "outputs": [],
      "source": []
    }
  ]
}